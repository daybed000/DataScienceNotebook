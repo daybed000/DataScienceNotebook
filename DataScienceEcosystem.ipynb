{
 "cells": [
  {
   "cell_type": "markdown",
   "id": "3fd4c840-351c-4435-939d-53f92d06e015",
   "metadata": {},
   "source": [
    "# Data Science Tools and Ecosytem"
   ]
  },
  {
   "cell_type": "markdown",
   "id": "6aa299d7-0e8a-4085-9b0b-024b170b198c",
   "metadata": {},
   "source": [
    "In this notebook, Data Science Tools and Ecosystem are summarized."
   ]
  },
  {
   "cell_type": "code",
   "execution_count": null,
   "id": "72e1a940-70ed-47a6-9c2f-1f98dfd9e9c0",
   "metadata": {},
   "outputs": [],
   "source": [
    "Some of the popular languages that Data Scientist use are: "
   ]
  },
  {
   "cell_type": "markdown",
   "id": "4fe41157-41f0-4f03-b5bd-76b51c885ada",
   "metadata": {},
   "source": [
    "Ordered list"
   ]
  },
  {
   "cell_type": "markdown",
   "id": "67891027-b410-4bf9-b96e-f1fd627627a4",
   "metadata": {},
   "source": [
    "1. Python"
   ]
  },
  {
   "cell_type": "markdown",
   "id": "9cbb314d-b5f0-49e3-895b-291d52aa4d5f",
   "metadata": {},
   "source": [
    "2. R"
   ]
  },
  {
   "cell_type": "markdown",
   "id": "791acc79-e827-45d9-874f-804209af77aa",
   "metadata": {},
   "source": [
    "3. SQL"
   ]
  },
  {
   "cell_type": "markdown",
   "id": "e77c83ad-db8d-4bc3-82dd-3b8cb529103e",
   "metadata": {},
   "source": [
    "Some of the commonly used libraries used by Data Scientists include:"
   ]
  },
  {
   "cell_type": "markdown",
   "id": "2911ece5-1300-43f7-98f0-d62731c9bf92",
   "metadata": {},
   "source": [
    "1. NumPy"
   ]
  },
  {
   "cell_type": "markdown",
   "id": "f346b38e-af68-4985-81b4-e0636f7383ae",
   "metadata": {},
   "source": [
    "2. Matplotlib"
   ]
  },
  {
   "cell_type": "markdown",
   "id": "bea6e72b-002a-4a2b-8b8f-52d458495a6f",
   "metadata": {},
   "source": [
    "3. Pandas"
   ]
  },
  {
   "cell_type": "markdown",
   "id": "d091a6c5-da34-4d50-bd2c-5d78dce8f164",
   "metadata": {},
   "source": [
    "| Data Science Tools |\n",
    "|---|---|\n",
    "| Jupyter Notebook |\n",
    "| RStudio |\n",
    "| VS Code |"
   ]
  },
  {
   "cell_type": "markdown",
   "id": "3aafe6c7-4c76-4e2f-9ba5-7c096926475d",
   "metadata": {},
   "source": [
    "### Below are a few examples of evaluating arithemetic expressions in Python."
   ]
  },
  {
   "cell_type": "code",
   "execution_count": 68,
   "id": "6f02ba30-923f-43ec-8cd2-e787bc2c1880",
   "metadata": {},
   "outputs": [],
   "source": [
    "# This is a simple arithmetic expression to multiply and then add integers (3*4)+5 = 17"
   ]
  },
  {
   "cell_type": "code",
   "execution_count": 70,
   "id": "e7440186-a49d-422e-97cf-223775d93869",
   "metadata": {},
   "outputs": [
    {
     "name": "stdout",
     "output_type": "stream",
     "text": [
      "3.3333333333333335\n"
     ]
    }
   ],
   "source": [
    "# This will convert 200 minutes to hours by dividing by 60\n",
    "hours = 200 / 60\n",
    "print(hours)\n"
   ]
  },
  {
   "cell_type": "markdown",
   "id": "0f7b011c-6dae-417a-896b-c73cfb287f2e",
   "metadata": {},
   "source": [
    "**Objectives:**\n",
    "\n",
    "* List popular languages for Data Science\n",
    "* Create a code cell to multiply and add numbers\n",
    "* Convert minutes to hours\n",
    "* Create a markdown cell with a table of Data Science tools\n",
    "* Create a markdown cell to list data science languages"
   ]
  },
  {
   "cell_type": "markdown",
   "id": "a3eb1594-4e79-4397-b4f8-dcc1432e9be4",
   "metadata": {},
   "source": [
    "## Author\n",
    "\n",
    "David Sebastian Balila"
   ]
  },
  {
   "cell_type": "code",
   "execution_count": null,
   "id": "b44f8cae-bb73-41db-8f10-0d8cbed853b4",
   "metadata": {},
   "outputs": [],
   "source": []
  }
 ],
 "metadata": {
  "kernelspec": {
   "display_name": "anaconda-panel-2023.05-py310",
   "language": "python",
   "name": "conda-env-anaconda-panel-2023.05-py310-py"
  },
  "language_info": {
   "codemirror_mode": {
    "name": "ipython",
    "version": 3
   },
   "file_extension": ".py",
   "mimetype": "text/x-python",
   "name": "python",
   "nbconvert_exporter": "python",
   "pygments_lexer": "ipython3",
   "version": "3.11.5"
  }
 },
 "nbformat": 4,
 "nbformat_minor": 5
}
